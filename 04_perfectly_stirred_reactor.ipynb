{
 "cells": [
  {
   "cell_type": "code",
   "execution_count": null,
   "metadata": {},
   "outputs": [],
   "source": [
    "%matplotlib inline\n",
    "\n",
    "import cantera as ct\n",
    "import numpy as np\n",
    "import matplotlib.pyplot as plt\n",
    "\n",
    "print(f\"Using Cantera version {ct.__version__}\")"
   ]
  },
  {
   "cell_type": "markdown",
   "metadata": {},
   "source": [
    "# 0-D Perfectly Stirred Reactor\n",
    "\n",
    "<img src=\"images\\PSR.png\" alt=\"Cartoon of a Perfectly Stirred Chemical Reactor.\" style=\"width: 500px;\"/>\n",
    "\n",
    "The perfectly stirred reactor (aka \"PSR\") is defined by a relatively simple set of governing equations as follows:\n",
    "\n",
    "### Density\n",
    "\n",
    "<div class=\"alert-danger\">\n",
    "    $$ \\frac{d\\rho_k}{dt} =  \\dot{m}^{\\prime\\prime\\prime}_{\\rm in}Y_{k,\\,{\\rm in}} - Y_kK\\left(P - P_{\\rm out}\\right) + W_k \\dot \\omega_k$$\n",
    "</div>\n",
    "where $W_k$ is the species molecular weight $\\left[{\\rm{unit:}} \\frac{\\rm kg}{{\\rm kmol}_k}\\right]$. The term $\\dot{m}^{\\prime\\prime\\prime}_{\\rm in}$ is inlet mass flow rate per unit volume of the reactor and is calculated as \n",
    "<div class=\"alert-danger\">\n",
    "    $$ \\dot{m}^{\\prime\\prime\\prime}_{\\rm in} = \\frac{\\dot m_{\\rm in}}{V} = \\frac{\\rho}{\\tau}, $$\n",
    "</div>\n",
    "where $\\tau$ is the residence time.\n",
    "\n",
    "### Temperature\n",
    "Assuming constant volume and a single-inlet single-exit reactor, the temperature of an ideal gas reactor is described on the [Cantera web page](https://cantera.org/science/reactors.html#ideal-gas-reactor) as:\n",
    "\n",
    "<div class=\"alert-danger\">\n",
    "    $$ \\frac{dT}{dt} = \\frac{1}{\\rho c_v}\\left(-q + \\dot{m}^{\\prime\\prime\\prime}_{\\rm in}\\left(h_{\\rm in} - \\sum_k u_kY_{k,{\\rm in}}\\right) - \\frac{p}{\\rho}\\dot{m}^{\\prime\\prime\\prime}_{\\rm out}-\\sum_k\\omega_k u_k \\right)$$\n",
    "</div>\n",
    "\n",
    "where, again, all mass flow rates $\\dot{m}^{\\prime\\prime\\prime}$ are per unit volume of reactor and $q$ is an optional heat loss term. $u_k$ are species specific internal energies. The outlet mass flow rate is $\\dot{m}^{\\prime\\prime\\prime}_{\\rm out} = K (P - P_{\\rm out})$.\n",
    "\n",
    "## Solve using Cantera's in-built functions\n",
    "In this example, we will explore how to use _user-defined functions_. In Cantera, we can connect several components together to create an open control volume, rather than the closed batch reactor we used to conduct constant U-V simultions previously.\n",
    "\n",
    "Perfectly stirred reactors are one such example. The PSR is typically a constant volume reaction chamber with a single inlet and outlet to allow flow in and out. In Cantera, we can use several components to control the flow rate in a `Reactor`, including a `PressureController`, which calculates the mass flow rate by\n",
    "\n",
    "$$\\dot{m} = \\dot{m}_{\\text{master}} + K(P_1 - P_2)$$\n",
    "\n",
    "where $K$ is a constant. Another option is a `MassFlowController`, which sets the mass flow rate to the specified value, regardless of the pressure difference. In this example, we will use a `MassFlowController` between the upstream condition and the reactor, to maintain the flow rate at the defined value; and we will use a `PressureController` to ensure constant pressure.\n",
    "\n",
    "In conducting experiments with PSR-analogs, the experimentalists might hold the residence time of the reactants in the reactor constant and vary the inlet conditions (equivalence ratio, temperature, etc.), perhaps to measure the mole fractions of the products coming out of the reactor. Cantera does not have a pre-defined function to set a constant residence time, but we can use a user-defined function to calculate the mass flow rate required to give a certain residence time. Essentially, we will divide the mass of the gas in the reactor by the residence time, and set the mass flow rate through the `MassFlowController` with this function.\n",
    "\n",
    "The inspiration for this function comes from a post on the User Group: (https://groups.google.com/d/msg/cantera-users/dMUhi5kVVDk/bDFYWMQsgbAJ)\n",
    "\n",
    "## Set Up Cantera Simulation\n",
    "\n",
    "As usual, we have a 3 step procedure to run the calculation:\n",
    "\n",
    "1. Create a phase object from an input file\n",
    "2. Set the initial/boundary conditions\n",
    "3. Create and run the reactor network\n",
    "\n",
    "\n",
    "### 1. Create a phase object from an input file\n",
    "First, we will load a simple H2/O2 mechanism that is distributed with Cantera."
   ]
  },
  {
   "cell_type": "code",
   "execution_count": null,
   "metadata": {},
   "outputs": [],
   "source": [
    "# Type your text here"
   ]
  },
  {
   "cell_type": "markdown",
   "metadata": {},
   "source": [
    "### 2. Set the initial/boundary conditions\n",
    "\n",
    "We need to define a container for the inlet gas and another container for the exhaust to go to. We will use `Reservoir`s, which are similar to `Reactor`s, except the thermodynamic state in a `Reservoir` is always constant, and they are not included in a `ReactorNet`."
   ]
  },
  {
   "cell_type": "code",
   "execution_count": null,
   "metadata": {},
   "outputs": [],
   "source": [
    "upstream = ct.Reservoir(gas)\n",
    "downstream = ct.Reservoir(gas)"
   ]
  },
  {
   "cell_type": "markdown",
   "metadata": {},
   "source": [
    "Now we will set the state of the main `Reactor` to the constant enthalpy-pressure equilibrium state. This ensures we start with the steady burning condition."
   ]
  },
  {
   "cell_type": "code",
   "execution_count": null,
   "metadata": {},
   "outputs": [],
   "source": [
    "# Type your text here"
   ]
  },
  {
   "cell_type": "code",
   "execution_count": null,
   "metadata": {},
   "outputs": [],
   "source": [
    "residence_time = 1.0e-4\n",
    "\n",
    "def mdot_in(t):\n",
    "    \"\"\"\n",
    "    Compute the mass flow rate for a MassFlowController. The argument\n",
    "    `t` is the simulation time, so in principle the mass flow rate can\n",
    "    be computed as a function of time. In this simulation, we don't use\n",
    "    the time because the mass flow rate will be only a function of the\n",
    "    reactor mass and (fixed) residence time.\n",
    "    \"\"\"\n",
    "    return reactor.mass / residence_time"
   ]
  },
  {
   "cell_type": "markdown",
   "metadata": {},
   "source": [
    "Here, we have defined the function we will use to set the mass flow rate. For this example, the residence time is $10^{-4}\\ \\text{s}$. Next, we define the `MassFlowController` between the `upstream` reservoir and the reactor and we set the mass flow rate to be computed by the `mdot_in()` function.\n",
    "\n",
    "We also set up a `PressureController` which is connected to the `inlet` mass flow controller to ensure that the pressure is constant in the reactor."
   ]
  },
  {
   "cell_type": "code",
   "execution_count": null,
   "metadata": {},
   "outputs": [],
   "source": [
    "inlet = ct.MassFlowController(upstream, reactor)\n",
    "inlet.mass_flow_rate = mdot_in\n",
    "outlet = ct.PressureController(reactor, downstream, master=inlet, K=100)"
   ]
  },
  {
   "cell_type": "markdown",
   "metadata": {},
   "source": [
    "### 3. Create and run the reactor network\n",
    "Now we can create the `ReactorNet` and run the simulation until we achieve steady state. We will assume that steady state occurs after the integration has gone for five residence times, then check afterwards."
   ]
  },
  {
   "cell_type": "code",
   "execution_count": null,
   "metadata": {},
   "outputs": [],
   "source": [
    "net = ct.ReactorNet([reactor])\n",
    "net.max_time_step = residence_time\n",
    "net.initialize()\n",
    "\n",
    "end_time = 5.0*residence_time\n",
    "time = []\n",
    "T = []\n",
    "mdot = []\n",
    "while net.time <= end_time:\n",
    "    # Type your text here"
   ]
  },
  {
   "cell_type": "code",
   "execution_count": null,
   "metadata": {},
   "outputs": [],
   "source": [
    "fig, ax = plt.subplots()\n",
    "ax.plot(time, T, color=\"red\", label='Temperature')\n",
    "plt.xlabel(\"Residence time (s)\")\n",
    "plt.ylabel(\"Temperature (K)\", color=\"red\")\n",
    "ax2=ax.twinx()\n",
    "ax2.plot(time, np.array(mdot), color=\"blue\", label='Mass Flow Rate')\n",
    "plt.ylabel(\"Mass flow rate (Kg/s)\", color=\"blue\")\n",
    "plt.show()"
   ]
  },
  {
   "cell_type": "markdown",
   "metadata": {},
   "source": [
    "From this, we can see that after about 0.1 ms, the solution has already reached steady state."
   ]
  },
  {
   "cell_type": "markdown",
   "metadata": {},
   "source": [
    "Another common case to study is changing the residence time until the reactor extinguishes (that is, the steady state solution is the non-reacting solution). We will use the `pandas` library `DataFrame` to store the data for a range of equivalence ratios."
   ]
  },
  {
   "cell_type": "markdown",
   "metadata": {},
   "source": [
    "# Varying Residence Time to Extinction"
   ]
  },
  {
   "cell_type": "markdown",
   "metadata": {},
   "source": [
    "Here, we define an array of residence times on a logarithmic scale, from $10^0$ to $10^{-5}$ seconds. We choose a `logspace` rather than a `linspace` because the residence time is varying over so many orders of magnitude. Then, we define several equivalence ratios and set up the `SolutionArray`s."
   ]
  },
  {
   "cell_type": "code",
   "execution_count": null,
   "metadata": {},
   "outputs": [],
   "source": [
    "residence_times = np.logspace(0, -5, num=200)\n",
    "phis = np.array([0.5, 0.7, 1.0])\n",
    "extinctions = ct.SolutionArray(gas, shape=(residence_times.shape[0], phis.shape[0]))\n",
    "extinctions.set_equivalence_ratio(phis, \"H2\", {\"O2\": 1.0, \"AR\": 4.0})\n",
    "extinctions.TP = 300.0, ct.one_atm"
   ]
  },
  {
   "cell_type": "markdown",
   "metadata": {},
   "source": [
    "In this `SolutionArray`, each row is a different residence time and each column is a different equivalence ratio."
   ]
  },
  {
   "cell_type": "code",
   "execution_count": null,
   "metadata": {},
   "outputs": [],
   "source": [
    "for i, j in np.ndindex(*extinctions._shape):\n",
    "    phi = phis[j]\n",
    "    residence_time = residence_times[i]\n",
    "    gas.TPX = extinctions[i, j].TPX\n",
    "    upstream = ct.Reservoir(gas)\n",
    "\n",
    "    gas.equilibrate(\"HP\")\n",
    "    T_equil = gas.T\n",
    "    reactor = ct.IdealGasReactor(gas)\n",
    "    inlet = ct.MassFlowController(upstream, reactor)\n",
    "    inlet.mass_flow_rate = mdot_in\n",
    "    outlet = ct.PressureController(reactor, downstream, master=inlet)\n",
    "    netw = ct.ReactorNet([reactor])\n",
    "\n",
    "    netw.advance_to_steady_state()\n",
    "    extinctions[i, j].TPX = reactor.thermo.TPX"
   ]
  },
  {
   "cell_type": "code",
   "execution_count": null,
   "metadata": {},
   "outputs": [],
   "source": [
    "fig, ax = plt.subplots()\n",
    "ax.semilogx(residence_times, extinctions[:, 0].T, label=r\"$\\phi = 0.5$\")\n",
    "ax.semilogx(residence_times, extinctions[:, 1].T, label=r\"$\\phi = 0.7$\")\n",
    "ax.semilogx(residence_times, extinctions[:, 2].T, label=r\"$\\phi = 1.0$\")\n",
    "ax.set_ylabel(\"Temperature, K\")\n",
    "ax.set_xlabel(\"Residence Time, s\")\n",
    "ax.legend(loc=\"best\");"
   ]
  }
 ],
 "metadata": {
  "kernelspec": {
   "display_name": "Python 3 (ipykernel)",
   "language": "python",
   "name": "python3"
  },
  "language_info": {
   "codemirror_mode": {
    "name": "ipython",
    "version": 3
   },
   "file_extension": ".py",
   "mimetype": "text/x-python",
   "name": "python",
   "nbconvert_exporter": "python",
   "pygments_lexer": "ipython3",
   "version": "3.9.12"
  }
 },
 "nbformat": 4,
 "nbformat_minor": 2
}
