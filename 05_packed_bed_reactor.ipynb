{
 "cells": [
  {
   "cell_type": "markdown",
   "id": "7bd3ed6b",
   "metadata": {},
   "source": [
    "# Packed bed reactors in Cantera\n",
    "\n",
    "In this example we simulate a packed bed reactor (PBR) using a series of continuously stirred tank reactors (CSTRs). This technique makes use of the following advanced functionality in Cantera: \n",
    "\n",
    "1. Simulating multiphase thermodynamics and reaction mixtures using Cantera\n",
    "2. Using a Cantera reactor network object to work with our two-phase system\n",
    "\n",
    "The design equation for a PBR is as follows: \n",
    "\n",
    "$$W_{cat} = F_{A0}\\int_{0}^{X} \\frac{dX}{-r'_A}$$\n",
    "\n",
    "and the equation for a fluidized CSTR is:\n",
    "\n",
    "$$W_{cat} = F_{A0} \\frac{F_{A0}X}{-r'_A}$$\n",
    "\n",
    "Comparing both of these on a Levenspiel plot shows that the limiting case for a large number of CSTRs (with differentially small volumes) in series will yield an approximation of a PBR: \n",
    "\n",
    "<img src=\"images/levenspiel_plot.png\"  width=\"500\">"
   ]
  },
  {
   "cell_type": "code",
   "execution_count": 1,
   "id": "84fdc2ee",
   "metadata": {},
   "outputs": [],
   "source": [
    "# Add python code here\n",
    "import cantera as ct\n",
    "\n",
    "%matplotlib inline\n",
    "import matplotlib.pyplot as plt\n",
    "\n",
    "print(f\"Using Cantera version: {ct.__version__}\")"
   ]
  },
  {
   "cell_type": "markdown",
   "id": "977c5490",
   "metadata": {},
   "source": [
    "## Cantera Simulation Steps\n",
    "\n",
    "As usual for a Cantera simulation, there are 3 main steps:\n",
    "\n",
    "1. Create the appropriate phases from an input file\n",
    "2. Set the initial conditions for the simulation\n",
    "3. Run the simulation\n",
    "\n",
    "### Inputs\n",
    "\n",
    "To start, we will specify the inputs for the packed bed reactor:\n",
    "\n",
    "- the reactor dimensions (radius, length, and catalyst bed area)\n",
    "- the catalyst properties (surface area to volume ratio) \n",
    "- inlet conditions (flowrate, mole fractions)\n",
    "- solver specifications (number of CSTRs we will use to approximate a PFR, time step size)"
   ]
  },
  {
   "cell_type": "code",
   "execution_count": 2,
   "id": "5b2a304a",
   "metadata": {},
   "outputs": [],
   "source": [
    "# Add python code here\n",
    "# Inputs \n",
    "          # Temperature (K)\n",
    "          # Catalyst bed length (m)\n",
    "          # Catalyst bed total area (m^2)\n",
    "          # Catalyst particle surface area per unit volume (m^2/m^3)\n",
    "          # Gas velocity (m/s)\n",
    "          # Catalyst bed porosity (unitless) \n",
    "\n",
    "# The PFR will be simulated by a chain of 'NReactors' stirred reactors.\n"
   ]
  },
  {
   "cell_type": "markdown",
   "id": "303c6d8f",
   "metadata": {},
   "source": [
    "### Create Cantera phases and set initial conditions\n",
    "\n",
    "For this problem, we need both a surface phase and a gas phase. Most conveniently, these phase definitions will be in the same input file and the phase can be chosen by specifying the phase name. You will create a gas bulk phase using the `methane_pox_on_pt.yaml` example input file distributed with Cantera. Then, you will create a surface phase from the same input file.\n",
    "\n",
    "The names of the phases correspond with the `name` field from the YAML input file. For our example, we have 2 phases named `gas` and `Pt_surf`:\n",
    "\n",
    "```\n",
    "phases:\n",
    "- name: gas\n",
    "  thermo: ideal-gas\n",
    "  # Further input removed for space\n",
    "- name: Pt_surf\n",
    "  thermo: ideal-surface\n",
    "  # Further input removed for space\n",
    "```\n",
    "\n",
    "First, you will specify the temperature, pressure, and concentrations for the gas phase. Then, specify the temperature and pressure for the surface phase."
   ]
  },
  {
   "cell_type": "code",
   "execution_count": 3,
   "id": "0de62aa7",
   "metadata": {},
   "outputs": [],
   "source": [
    "# Add python code here"
   ]
  },
  {
   "cell_type": "markdown",
   "id": "66e39ad4",
   "metadata": {},
   "source": [
    "When creating a `Solution`, the _second_ argument tells Cantera which phase to load from the input file. By default, Cantera chooses the first, but when there are multiple phases present it is good practice to be explicit.\n",
    "\n",
    "Surface phases are loaded using the `Interface` class. As with the `Solution`, the first and second arguments are the input file name and the phase name, respectively. For an `Interface`, the third argument must be a list of the adjacent bulk phase instances. In this case, we will use the variable `gas`."
   ]
  },
  {
   "cell_type": "code",
   "execution_count": 4,
   "id": "1b905d0b",
   "metadata": {},
   "outputs": [],
   "source": [
    "# Add python code here"
   ]
  },
  {
   "cell_type": "markdown",
   "id": "064ce749",
   "metadata": {},
   "source": [
    "After initializing the gas and surface phases, we next want to calculate the differential volume and the differential length of differential CSTR elements. Additionally, the catalyst area and inlet mass flow rate need to be calculated."
   ]
  },
  {
   "cell_type": "code",
   "execution_count": 5,
   "id": "11b5e526",
   "metadata": {},
   "outputs": [],
   "source": [
    "# Add python code here"
   ]
  },
  {
   "cell_type": "markdown",
   "id": "0f190fa7",
   "metadata": {},
   "source": [
    "### Creating a chain of CSTRs to approximate a PFR\n",
    "The plug flow reactor is represented by a linear chain of zero-dimensional reactors. The gas at the inlet to the first one has the specified inlet composition, and for all others the inlet composition is fixed at the composition of the reactor immediately upstream. Since in a PFR model there is no diffusion, the upstream reactors are not affected by any downstream reactors, and therefore the problem may be solved by simply marching from the first to last reactor, integrating each one to steady state.\n",
    "\n",
    "<img src=\"images/Chain_of_CSTRs.png\"  width=\"700\">"
   ]
  },
  {
   "cell_type": "markdown",
   "id": "8bd73b9f",
   "metadata": {},
   "source": [
    "Next, we need to initialize our reactor objects of the type 'IdealGasReactor'. We also need to attach a surface onto it to run all surface reactions simultaneously. "
   ]
  },
  {
   "cell_type": "code",
   "execution_count": 9,
   "id": "a406f296",
   "metadata": {},
   "outputs": [],
   "source": [
    "# Add python code here"
   ]
  },
  {
   "cell_type": "markdown",
   "id": "c1ec8d0b",
   "metadata": {},
   "source": [
    "Next, create two reservoirs: one for the supply gas (upstream) and one for the outlet (downstream). To control our material balance across the reactor, we will need to introduce the `MassFlowController` and the `PressureController` objects. The mass flow rate in the `MassFlowController` is constant here."
   ]
  },
  {
   "cell_type": "code",
   "execution_count": 10,
   "id": "689a245d",
   "metadata": {},
   "outputs": [],
   "source": [
    "# Add python code here"
   ]
  },
  {
   "cell_type": "markdown",
   "id": "702234b1",
   "metadata": {},
   "source": [
    "We will then create a `ReactorNet` object."
   ]
  },
  {
   "cell_type": "code",
   "execution_count": 11,
   "id": "b0a55988",
   "metadata": {},
   "outputs": [],
   "source": [
    "# Add python code here"
   ]
  },
  {
   "cell_type": "markdown",
   "id": "1bede2d4",
   "metadata": {},
   "source": [
    "We are now ready to run our reactor. We will print the CH4, H2, and CO mile fractions so we can track our progress down the PBR. We will also record our data while the reactor is running."
   ]
  },
  {
   "cell_type": "code",
   "execution_count": 12,
   "id": "5cf4d773",
   "metadata": {},
   "outputs": [],
   "source": [
    "# Add python code here\n",
    "print('    distance       X_CH4        X_H2        X_CO')\n",
    "\n",
    "\n",
    "\n",
    "# run each differential reactor volume element sequentially\n",
    "\n",
    "    \n",
    "    # Set the state of the reservoir to match that of the previous reactor. \n",
    "\n",
    "\n",
    "    # run the CSTR to steady state, since we are getting \n",
    "    # our steady state concentrations in the PFR\n",
    "\n",
    "    # distance in mm\n",
    "\n",
    "    # generate our solution array using the states object\n",
    "\n",
    "\n",
    "    if n % 10 == 0:\n",
    "        print('  {0:10f}  {1:10f}  {2:10f}  {3:10f}'.format(\n",
    "            dist, *gas['CH4', 'H2', 'CO'].X))"
   ]
  },
  {
   "cell_type": "markdown",
   "id": "f387976e",
   "metadata": {},
   "source": [
    "## Results\n",
    "\n",
    "Plot the resulting surface coverages and concentrations over the length of the PFR using our `states` solution array"
   ]
  },
  {
   "cell_type": "code",
   "execution_count": 13,
   "id": "0568b96b",
   "metadata": {},
   "outputs": [],
   "source": [
    "for i in range(gas.n_species):\n",
    "    spec = gas.species_names[i]\n",
    "    plt.plot(states.distance, states.X[:,i],label = spec)\n",
    "    plt.legend()\n",
    "\n",
    "plt.xlabel(\"Distance (mm)\")\n",
    "plt.ylabel(\"mole fraction\")\n",
    "plt.show()"
   ]
  }
 ],
 "metadata": {
  "celltoolbar": "Tags",
  "kernelspec": {
   "display_name": "Python 3",
   "language": "python",
   "name": "python3"
  },
  "language_info": {
   "codemirror_mode": {
    "name": "ipython",
    "version": 3
   },
   "file_extension": ".py",
   "mimetype": "text/x-python",
   "name": "python",
   "nbconvert_exporter": "python",
   "pygments_lexer": "ipython3",
   "version": "3.8.8"
  }
 },
 "nbformat": 4,
 "nbformat_minor": 5
}
