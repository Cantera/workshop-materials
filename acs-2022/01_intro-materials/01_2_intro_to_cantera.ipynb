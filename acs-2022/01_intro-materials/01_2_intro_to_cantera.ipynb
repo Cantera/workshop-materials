{
 "cells": [
  {
   "cell_type": "markdown",
   "metadata": {},
   "source": [
    "# Cantera Tutorial: Python"
   ]
  },
  {
   "cell_type": "markdown",
   "metadata": {},
   "source": [
    "## Getting Started"
   ]
  },
  {
   "cell_type": "markdown",
   "metadata": {},
   "source": [
    "Let's get started with Cantera by importing the Cantera and NumPy libraries. We can also print the version of Cantera that we're using with the `__version__` attribute from the `cantera` module, typically aliased as `ct`."
   ]
  },
  {
   "cell_type": "code",
   "execution_count": 1,
   "metadata": {},
   "outputs": [
    {
     "name": "stdout",
     "output_type": "stream",
     "text": [
      "Using Cantera version 2.5.1\n"
     ]
    }
   ],
   "source": [
    "# Import required packages"
   ]
  },
  {
   "cell_type": "markdown",
   "metadata": {},
   "source": [
    "When using Cantera, the first thing you usually need is an object representing some phase of matter. Here, we'll create a gas mixture:"
   ]
  },
  {
   "cell_type": "code",
   "execution_count": 2,
   "metadata": {},
   "outputs": [],
   "source": [
    "# Read the chemistry mechanism"
   ]
  },
  {
   "cell_type": "markdown",
   "metadata": {},
   "source": [
    "To view the state of the mixture, *call* the `gas1` object as if it were a function:"
   ]
  },
  {
   "cell_type": "code",
   "execution_count": 3,
   "metadata": {},
   "outputs": [
    {
     "name": "stdout",
     "output_type": "stream",
     "text": [
      "\n",
      "  gri30:\n",
      "\n",
      "       temperature   300 K\n",
      "          pressure   1.0133e+05 Pa\n",
      "           density   0.081894 kg/m^3\n",
      "  mean mol. weight   2.016 kg/kmol\n",
      "   phase of matter   gas\n",
      "\n",
      "                          1 kg             1 kmol     \n",
      "                     ---------------   ---------------\n",
      "          enthalpy             26469             53361  J\n",
      "   internal energy       -1.2108e+06        -2.441e+06  J\n",
      "           entropy             64910        1.3086e+05  J/K\n",
      "    Gibbs function       -1.9447e+07       -3.9204e+07  J\n",
      " heat capacity c_p             14311             28851  J/K\n",
      " heat capacity c_v             10187             20536  J/K\n",
      "\n",
      "                      mass frac. Y      mole frac. X     chem. pot. / RT\n",
      "                     ---------------   ---------------   ---------------\n",
      "                H2                 1                 1           -15.717\n",
      "     [  +52 minor]                 0                 0  \n",
      "\n"
     ]
    }
   ],
   "source": [
    "# Print the state of the mixture"
   ]
  },
  {
   "cell_type": "markdown",
   "metadata": {},
   "source": [
    "What you have just done is created an object `gas1` that implements GRI-Mech 3.0, the 53-species, 325-reaction natural gas combustion mechanism developed by Gregory P. Smith, David M. Golden, Michael Frenklach, Nigel W. Moriarty, Boris Eiteneer, Mikhail Goldenberg, C. Thomas Bowman, Ronald K. Hanson, Soonho Song, William C. Gardiner, Jr., Vitali V. Lissianski, and Zhiwei Qin.  See the [GRI-Mech Home Page](http://combustion.berkeley.edu/gri-mech/) for more information.\n",
    "\n",
    "The `gas1` object has properties you would expect for a gas mixture: a temperature, a pressure, species mole and mass fractions, etc. As we will soon see, it has many more properties.\n",
    "\n",
    "The summary of the state of `gas1` that you found above shows that the new objects created from the `gri30.yaml` input file start out with a temperature of 300 K, a pressure of 1 atm, and have a composition that consists of only one species, in this case hydrogen. There is nothing special about H2—it just happens to be the first species listed in the input file defining GRI-Mech 3.0. In general, whichever species is listed first will initially have a mole fraction of 1.0, and all others will be zero."
   ]
  },
  {
   "cell_type": "markdown",
   "metadata": {},
   "source": [
    "## Setting the State"
   ]
  },
  {
   "cell_type": "markdown",
   "metadata": {},
   "source": [
    "The state of the object can easily be changed. For example:"
   ]
  },
  {
   "cell_type": "code",
   "execution_count": 4,
   "metadata": {},
   "outputs": [],
   "source": [
    "# Change the state of the mixture"
   ]
  },
  {
   "cell_type": "markdown",
   "metadata": {},
   "source": [
    "sets the temperature to 1200 K and the pressure to 101325 Pa (Cantera always uses SI units + kmol). After this statement, calling `gas1()` results in:"
   ]
  },
  {
   "cell_type": "code",
   "execution_count": 5,
   "metadata": {},
   "outputs": [
    {
     "name": "stdout",
     "output_type": "stream",
     "text": [
      "\n",
      "  gri30:\n",
      "\n",
      "       temperature   1200 K\n",
      "          pressure   1.0133e+05 Pa\n",
      "           density   0.020473 kg/m^3\n",
      "  mean mol. weight   2.016 kg/kmol\n",
      "   phase of matter   gas\n",
      "\n",
      "                          1 kg             1 kmol     \n",
      "                     ---------------   ---------------\n",
      "          enthalpy        1.3295e+07        2.6802e+07  J\n",
      "   internal energy        8.3457e+06        1.6825e+07  J\n",
      "           entropy             85222        1.7181e+05  J/K\n",
      "    Gibbs function       -8.8972e+07       -1.7937e+08  J\n",
      " heat capacity c_p             15377             31000  J/K\n",
      " heat capacity c_v             11253             22686  J/K\n",
      "\n",
      "                      mass frac. Y      mole frac. X     chem. pot. / RT\n",
      "                     ---------------   ---------------   ---------------\n",
      "                H2                 1                 1           -17.978\n",
      "     [  +52 minor]                 0                 0  \n",
      "\n"
     ]
    }
   ],
   "source": [
    "# Print the state of the mixture"
   ]
  },
  {
   "cell_type": "markdown",
   "metadata": {},
   "source": [
    "Thermodynamics generally requires that *two* properties in addition to composition information be specified to fix the intensive state of a substance (or mixture). The state of the mixture can be set using several combinations of two properties. The following are all equivalent:"
   ]
  },
  {
   "cell_type": "code",
   "execution_count": 6,
   "metadata": {},
   "outputs": [],
   "source": [
    "# Other ways to set the thermodynamic state"
   ]
  },
  {
   "cell_type": "markdown",
   "metadata": {},
   "source": [
    "Cantera can set and get properties on a molar basis (J/kmol) or a mass basis (J/kg). Note that the mass basis is set by default, so all the values in the previous cell are per unit mass. The basis of a `Solution` instance can be changed by assigning to the `basis` attribute of the instance:"
   ]
  },
  {
   "cell_type": "code",
   "execution_count": 7,
   "metadata": {},
   "outputs": [],
   "source": [
    "gas1.basis = 'molar'\n",
    "gas1.basis = 'mass'"
   ]
  },
  {
   "cell_type": "markdown",
   "metadata": {},
   "source": [
    "Properties may be also **read** independently, such as"
   ]
  },
  {
   "cell_type": "code",
   "execution_count": 8,
   "metadata": {},
   "outputs": [
    {
     "data": {
      "text/plain": [
       "1200.5188172713504"
      ]
     },
     "execution_count": 8,
     "metadata": {},
     "output_type": "execute_result"
    }
   ],
   "source": [
    "gas1.T"
   ]
  },
  {
   "cell_type": "markdown",
   "metadata": {},
   "source": [
    "or"
   ]
  },
  {
   "cell_type": "code",
   "execution_count": 9,
   "metadata": {},
   "outputs": [
    {
     "data": {
      "text/plain": [
       "13302755.250164837"
      ]
     },
     "execution_count": 9,
     "metadata": {},
     "output_type": "execute_result"
    }
   ],
   "source": [
    "gas1.h"
   ]
  },
  {
   "cell_type": "markdown",
   "metadata": {},
   "source": [
    "or together:"
   ]
  },
  {
   "cell_type": "code",
   "execution_count": 10,
   "metadata": {},
   "outputs": [
    {
     "data": {
      "text/plain": [
       "(8351530.632807602, 48.84649013545132)"
      ]
     },
     "execution_count": 10,
     "metadata": {},
     "output_type": "execute_result"
    }
   ],
   "source": [
    "gas1.UV"
   ]
  },
  {
   "cell_type": "code",
   "execution_count": 11,
   "metadata": {},
   "outputs": [
    {
     "name": "stderr",
     "output_type": "stream",
     "text": [
      "/Users/decaluwe/opt/anaconda3/envs/cantera/lib/python3.6/site-packages/ipykernel_launcher.py:3: DeprecationWarning: Behavior changes after Cantera 2.5, when 'X' will refer to mole fraction. Attribute renamed to 'TPQ'\n",
      "  This is separate from the ipykernel package so we can avoid doing imports until\n"
     ]
    }
   ],
   "source": [
    "water = ct.PureFluid('liquidvapor.yaml', 'water')\n",
    "\n",
    "# Set the thermodynamic state\n"
   ]
  },
  {
   "cell_type": "markdown",
   "metadata": {},
   "source": [
    "The composition can be set in terms of either mole fractions (`X`) or mass fractions (`Y`) by assigning to the corresponding attribute of the `Solution` instance. There are three main options to set the composition of a mixture:\n",
    "\n",
    "* A string specifying the species names and relative mole numbers\n",
    "\n",
    "      \"CH4:1, O2:2, N2:7.52\"\n",
    "      \n",
    "* A Python dictionary where the keys are species names and the values are relative mole numbers\n",
    "\n",
    "      {\"CH4\": 1, \"O2\": 2, \"N2\": 7.52}\n",
    "\n",
    "* A NumPy array of length `n_species`\n",
    "\n",
    "In any of these case, the mole numbers are normalized so the sum is 1.0."
   ]
  },
  {
   "cell_type": "code",
   "execution_count": 12,
   "metadata": {},
   "outputs": [
    {
     "name": "stdout",
     "output_type": "stream",
     "text": [
      "{'CH4': 0.07751937984496124, 'N2': 0.7286821705426355, 'O2': 0.19379844961240308}\n"
     ]
    }
   ],
   "source": [
    "# Set and print the composition of the mixture\n"
   ]
  },
  {
   "cell_type": "code",
   "execution_count": 13,
   "metadata": {},
   "outputs": [
    {
     "name": "stdout",
     "output_type": "stream",
     "text": [
      "{'CH4': 0.07751937984496125, 'N2': 0.7286821705426356, 'O2': 0.19379844961240314}\n"
     ]
    }
   ],
   "source": [
    "# Set composition using the equivalence ratio\n"
   ]
  },
  {
   "cell_type": "code",
   "execution_count": 14,
   "metadata": {},
   "outputs": [
    {
     "name": "stdout",
     "output_type": "stream",
     "text": [
      "\n",
      "  gri30:\n",
      "\n",
      "       temperature   1200.5 K\n",
      "          pressure   13437 Pa\n",
      "           density   0.020472 kg/m^3\n",
      "  mean mol. weight   15.208 kg/kmol\n",
      "   phase of matter   gas\n",
      "\n",
      "                          1 kg             1 kmol     \n",
      "                     ---------------   ---------------\n",
      "          enthalpy        1.2528e+07        1.9053e+08  J\n",
      "   internal energy        1.1872e+07        1.8055e+08  J\n",
      "           entropy             17372         2.642e+05  J/K\n",
      "    Gibbs function       -8.3274e+06       -1.2665e+08  J\n",
      " heat capacity c_p            2898.6             44084  J/K\n",
      " heat capacity c_v            2351.9             35769  J/K\n",
      "\n",
      "                      mass frac. Y      mole frac. X     chem. pot. / RT\n",
      "                     ---------------   ---------------   ---------------\n",
      "                H2          0.018868           0.14234           -21.949\n",
      "                 H          0.018868           0.28467            3.1625\n",
      "                 O          0.018868          0.017935           -2.0944\n",
      "                O2          0.018868         0.0089677           -33.823\n",
      "                OH          0.018868          0.016872            -26.55\n",
      "               H2O          0.018868          0.015928           -55.853\n",
      "               HO2          0.018868         0.0086938           -36.132\n",
      "              H2O2          0.018868         0.0084362           -52.497\n",
      "                 C          0.018868          0.023891            45.425\n",
      "                CH          0.018868          0.022041            29.699\n",
      "               CH2          0.018868          0.020457            7.0587\n",
      "            CH2(S)          0.018868          0.020457            11.556\n",
      "               CH3          0.018868          0.019085           -18.116\n",
      "               CH4          0.018868          0.017886           -39.651\n",
      "                CO          0.018868          0.010245           -43.774\n",
      "               CO2          0.018868         0.0065202           -75.622\n",
      "               HCO          0.018868         0.0098887           -32.435\n",
      "              CH2O          0.018868         0.0095567           -47.305\n",
      "             CH2OH          0.018868         0.0092463           -42.101\n",
      "              CH3O          0.018868         0.0092463           -36.635\n",
      "             CH3OH          0.018868         0.0089554           -60.393\n",
      "               C2H          0.018868          0.011464            21.039\n",
      "              C2H2          0.018868           0.01102           -12.027\n",
      "              C2H3          0.018868           0.01061           -9.1097\n",
      "              C2H4          0.018868          0.010228           -32.573\n",
      "              C2H5          0.018868         0.0098737           -30.058\n",
      "              C2H6          0.018868         0.0095427           -48.742\n",
      "              HCCO          0.018868         0.0069938           -23.341\n",
      "             CH2CO          0.018868         0.0068261           -45.933\n",
      "             HCCOH          0.018868         0.0068261           -32.956\n",
      "                 N          0.018868          0.020486            21.405\n",
      "                NH          0.018868          0.019111            5.7059\n",
      "               NH2          0.018868          0.017909           -13.079\n",
      "               NH3          0.018868          0.016849           -37.186\n",
      "               NNH          0.018868         0.0098873           -11.692\n",
      "                NO          0.018868         0.0095631           -25.256\n",
      "               NO2          0.018868         0.0062373           -35.928\n",
      "               N2O          0.018868         0.0065196            -28.87\n",
      "               HNO          0.018868         0.0092522           -25.584\n",
      "                CN          0.018868          0.011029            10.711\n",
      "               HCN          0.018868          0.010618           -20.954\n",
      "              H2CN          0.018868          0.010236           -12.527\n",
      "              HCNN          0.018868         0.0069931            4.6924\n",
      "              HCNO          0.018868         0.0066694           -23.506\n",
      "              HOCN          0.018868         0.0066694           -41.515\n",
      "              HNCO          0.018868         0.0066694           -52.102\n",
      "               NCO          0.018868         0.0068294            -25.37\n",
      "                N2          0.018868          0.010243           -31.946\n",
      "                AR          0.018868         0.0071827            -27.17\n",
      "              C3H7          0.018868         0.0066594            -40.02\n",
      "              C3H8          0.018868         0.0065072           -58.715\n",
      "            CH2CHO          0.018868         0.0066663            -42.25\n",
      "            CH3CHO          0.018868         0.0065137           -61.423\n",
      "\n"
     ]
    }
   ],
   "source": [
    "nsp = gas1.n_species\n",
    "gas1.Y = np.ones(nsp)\n",
    "gas1()"
   ]
  },
  {
   "cell_type": "markdown",
   "metadata": {},
   "source": [
    "One additional method is available to set the equivalence ratio directly, called [`set_equivalence_ratio()`](https://cantera.org/documentation/docs-2.4/sphinx/html/cython/thermo.html#cantera.ThermoPhase.set_equivalence_ratio). In this case, it is assumed that all C atoms are oxidized to CO2, H atoms to H2O, and S to SO2. Other atoms are assumed not to react (e.g., N ends up as N2). The signature for this method is:\n",
    "\n",
    "    set_equivalence_ratio(phi, fuel, oxidizer)\n",
    "    \n",
    "where the `phi` argument is a number that represents the desired equivalence ratio of the mixture and the `fuel` and `oxidizer` represent the fuel and oxidizer mixtures in any of the formats shown before on a molar basis. For instance, to set the equivalence ratio to 0.8 with an equimolar fuel mixture of methane and propane and an oxidizer of air, the code is:"
   ]
  },
  {
   "cell_type": "code",
   "execution_count": 15,
   "metadata": {},
   "outputs": [
    {
     "name": "stdout",
     "output_type": "stream",
     "text": [
      "{'C3H8': 0.022909507445589918, 'CH4': 0.02290950744558992, 'N2': 0.7537227949599085, 'O2': 0.2004581901489118}\n"
     ]
    }
   ],
   "source": [
    "# Set composition using the equivalence ratio\n"
   ]
  },
  {
   "cell_type": "markdown",
   "metadata": {},
   "source": [
    "When the composition alone is changed, the **temperature** and **density** are held constant. This means that the pressure and other intensive properties will change. The composition can also be set in conjunction with the intensive properties of the mixture:"
   ]
  },
  {
   "cell_type": "code",
   "execution_count": 16,
   "metadata": {},
   "outputs": [
    {
     "name": "stdout",
     "output_type": "stream",
     "text": [
      "\n",
      "  gri30:\n",
      "\n",
      "       temperature   1200 K\n",
      "          pressure   1.0133e+05 Pa\n",
      "           density   0.28063 kg/m^3\n",
      "  mean mol. weight   27.633 kg/kmol\n",
      "   phase of matter   gas\n",
      "\n",
      "                          1 kg             1 kmol     \n",
      "                     ---------------   ---------------\n",
      "          enthalpy        8.6193e+05        2.3818e+07  J\n",
      "   internal energy        5.0087e+05        1.3841e+07  J\n",
      "           entropy            8914.2        2.4633e+05  J/K\n",
      "    Gibbs function       -9.8351e+06       -2.7178e+08  J\n",
      " heat capacity c_p            1397.3             38611  J/K\n",
      " heat capacity c_v            1096.4             30296  J/K\n",
      "\n",
      "                      mass frac. Y      mole frac. X     chem. pot. / RT\n",
      "                     ---------------   ---------------   ---------------\n",
      "                O2           0.22014           0.19011           -28.747\n",
      "               CH4          0.055187          0.095057           -35.961\n",
      "                N2           0.72467           0.71483           -25.679\n",
      "     [  +50 minor]                 0                 0  \n",
      "\n"
     ]
    }
   ],
   "source": [
    "# Other ways to set the thermodynamic state\n"
   ]
  },
  {
   "cell_type": "markdown",
   "metadata": {},
   "source": [
    "When setting the state, you can control what properties are held constant by passing the special value `None` to the property setter. For example, to change the specific volume to 2.1 m<sup>3</sup>/kg while holding entropy constant:"
   ]
  },
  {
   "cell_type": "code",
   "execution_count": 17,
   "metadata": {},
   "outputs": [
    {
     "name": "stdout",
     "output_type": "stream",
     "text": [
      "\n",
      "  gri30:\n",
      "\n",
      "       temperature   1383.5 K\n",
      "          pressure   1.9823e+05 Pa\n",
      "           density   0.47619 kg/m^3\n",
      "  mean mol. weight   27.633 kg/kmol\n",
      "   phase of matter   gas\n",
      "\n",
      "                          1 kg             1 kmol     \n",
      "                     ---------------   ---------------\n",
      "          enthalpy        1.1224e+06        3.1017e+07  J\n",
      "   internal energy        7.0614e+05        1.9513e+07  J\n",
      "           entropy            8914.2        2.4633e+05  J/K\n",
      "    Gibbs function       -1.1211e+07       -3.0979e+08  J\n",
      " heat capacity c_p            1439.9             39788  J/K\n",
      " heat capacity c_v              1139             31474  J/K\n",
      "\n",
      "                      mass frac. Y      mole frac. X     chem. pot. / RT\n",
      "                     ---------------   ---------------   ---------------\n",
      "                O2           0.22014           0.19011           -28.513\n",
      "               CH4          0.055187          0.095057           -35.115\n",
      "                N2           0.72467           0.71483           -25.421\n",
      "     [  +50 minor]                 0                 0  \n",
      "\n"
     ]
    }
   ],
   "source": [
    "# Other ways to set the thermodynamic state\n"
   ]
  },
  {
   "cell_type": "markdown",
   "metadata": {},
   "source": [
    "Or to set the mass fractions while holding temperature and pressure constant:"
   ]
  },
  {
   "cell_type": "code",
   "execution_count": 18,
   "metadata": {},
   "outputs": [],
   "source": [
    "# Other ways to set the thermodynamic state\n"
   ]
  },
  {
   "cell_type": "markdown",
   "metadata": {},
   "source": [
    "## Working with a Subset of Species"
   ]
  },
  {
   "cell_type": "code",
   "execution_count": 19,
   "metadata": {},
   "outputs": [
    {
     "name": "stdout",
     "output_type": "stream",
     "text": [
      "[<Species H2>, <Species H>, <Species O>, <Species O2>, <Species OH>, <Species H2O>, <Species HO2>, <Species H2O2>, <Species C>, <Species CH>, <Species CH2>, <Species CH2(S)>, <Species CH3>, <Species CH4>, <Species CO>, <Species CO2>, <Species HCO>, <Species CH2O>, <Species CH2OH>, <Species CH3O>, <Species CH3OH>, <Species C2H>, <Species C2H2>, <Species C2H3>, <Species C2H4>, <Species C2H5>, <Species C2H6>, <Species HCCO>, <Species CH2CO>, <Species HCCOH>, <Species N>, <Species NH>, <Species NH2>, <Species NH3>, <Species NNH>, <Species NO>, <Species NO2>, <Species N2O>, <Species HNO>, <Species CN>, <Species HCN>, <Species H2CN>, <Species HCNN>, <Species HCNO>, <Species HOCN>, <Species HNCO>, <Species NCO>, <Species N2>, <Species AR>, <Species C3H7>, <Species C3H8>, <Species CH2CHO>, <Species CH3CHO>]\n"
     ]
    }
   ],
   "source": [
    "print(gas1.species())"
   ]
  },
  {
   "cell_type": "markdown",
   "metadata": {},
   "source": [
    "Many properties of a [`Solution`](https://cantera.org/documentation/docs-2.4/sphinx/html/cython/importing.html#cantera.Solution) provide values for each species present in the phase. If you want to get values only for a subset of these species, you can use Python's \"slicing\" syntax to select data for just the species of interest. To get the mole fractions of just the major species in `gas1`, in the order specified, you can write:"
   ]
  },
  {
   "cell_type": "code",
   "execution_count": 20,
   "metadata": {},
   "outputs": [
    {
     "name": "stdout",
     "output_type": "stream",
     "text": [
      "[0.79956021 0.20043979 0.         0.         0.        ]\n"
     ]
    }
   ],
   "source": [
    "# Print major species"
   ]
  },
  {
   "cell_type": "markdown",
   "metadata": {},
   "source": [
    "If you want to use the same set of species repeatedly, you can keep a reference to the sliced phase object:"
   ]
  },
  {
   "cell_type": "code",
   "execution_count": 21,
   "metadata": {},
   "outputs": [
    {
     "name": "stdout",
     "output_type": "stream",
     "text": [
      "[-0.00599455 -0.00500799  0.          0.          0.        ]\n"
     ]
    }
   ],
   "source": [
    "major = gas1['CH4','O2','CO2','H2O','N2']\n",
    "cp_major = major.partial_molar_cp\n",
    "wdot_major = major.net_production_rates\n",
    "print(wdot_major)"
   ]
  },
  {
   "cell_type": "markdown",
   "metadata": {},
   "source": [
    "The slice object and the original object share the same internal state, so modifications to one will affect the other."
   ]
  },
  {
   "cell_type": "code",
   "execution_count": 22,
   "metadata": {},
   "outputs": [
    {
     "name": "stdout",
     "output_type": "stream",
     "text": [
      "[-8.65079074e-06 -8.53258691e-06  0.00000000e+00  0.00000000e+00\n",
      " -3.28511288e-13]\n",
      "[0.09505703 0.19011407 0.         0.         0.7148289 ]\n"
     ]
    }
   ],
   "source": [
    "gas1.TPX = 1200, 101325, \"CH4:1, N2:7.52, O2:2\"\n",
    "print(major.net_production_rates)\n",
    "print(major.X)"
   ]
  },
  {
   "cell_type": "markdown",
   "metadata": {},
   "source": [
    "## Working with Mechanism Files"
   ]
  },
  {
   "cell_type": "markdown",
   "metadata": {},
   "source": [
    "In the previous example, we created an object that models an ideal gas mixture with the species and reactions of GRI-Mech 3.0, using the `gri30.yaml` input file included with Cantera. This is a CTI input file and is relatively easy for humans to read and write. Cantera also supports an XML-based input file format that is easy for Cantera to parse, but hard for humans to write. Several reaction mechanism files in both formats are included with Cantera, including ones that model high-temperature air, a hydrogen/oxygen reaction mechanism, and a few surface reaction mechanisms. These files are usually located in the `data` subdirectory of the Cantera installation directory, e.g., `C:\\Program Files\\Cantera\\data` on Windows or `/usr/local/cantera/data/` on Unix/Linux/Mac OS X machines, depending on how you installed Cantera and the options you specified.\n",
    "\n",
    "There are a number of mechanism files included with Cantera, including the `gri30.yaml` example we saw earlier."
   ]
  },
  {
   "cell_type": "code",
   "execution_count": 23,
   "metadata": {},
   "outputs": [
    {
     "name": "stdout",
     "output_type": "stream",
     "text": [
      "['ohn.yaml', 'nDodecane_Reitz.yaml', 'graphite.yaml', 'h2o2.yaml', 'water.yaml', 'KOH.yaml', 'nasa_gas.yaml', 'gri30.yaml', 'methane_pox_on_pt.yaml', 'silicon_carbide.yaml', 'nasa_condensed.yaml', 'silicon.yaml', 'airNASA9.yaml', 'liquidvapor.yaml', 'nasa.yaml', 'sofc.yaml', 'diamond.yaml', 'lithium_ion_battery.yaml', 'air.yaml', 'argon.yaml', 'gri30_ion.yaml', 'ptcombust.yaml', 'silane.yaml', 'gri30_highT.yaml']\n"
     ]
    }
   ],
   "source": [
    "from pathlib import Path\n",
    "p = Path(ct.__file__)\n",
    "print([c.name for c in (p.parent / \"data\").glob(\"*.yaml\")])"
   ]
  },
  {
   "cell_type": "markdown",
   "metadata": {},
   "source": [
    "Cantera input files are plain text files, and can be created with any text editor. See the document *[Defining Phases](https://cantera.org/tutorials/cti/defining-phases.html)* for more information.\n",
    "\n",
    "A Cantera input file may contain more than one phase specification, or may contain specifications of interfaces (surfaces). Here, we import definitions of two bulk phases and the interface between them from the file `diamond.yaml`:"
   ]
  },
  {
   "cell_type": "code",
   "execution_count": 24,
   "metadata": {},
   "outputs": [],
   "source": [
    "#Working with mechanisms"
   ]
  },
  {
   "cell_type": "markdown",
   "metadata": {},
   "source": [
    "Note that the bulk (i.e., 3D or homogenous) phases that participate in the surface reactions must also be passed as arguments to [`Interface`](http://cantera.github.io/docs/sphinx/html/cython/importing.html#cantera.Interface)."
   ]
  },
  {
   "cell_type": "markdown",
   "metadata": {},
   "source": [
    "### Converting CK-format files"
   ]
  },
  {
   "cell_type": "markdown",
   "metadata": {},
   "source": [
    "Cantera also comes with a script to convert CHEMKIN (CK)-format input files to the Cantera YAML format. We'll cover that in the [`chemkin_conversion.ipynb`](chemkin_conversion.ipynb) Notebook."
   ]
  },
  {
   "cell_type": "markdown",
   "metadata": {},
   "source": [
    "## Getting Help"
   ]
  },
  {
   "cell_type": "markdown",
   "metadata": {},
   "source": [
    "In addition to the Sphinx-generated *[Python Module Documentation](https://cantera.org/documentation/docs-2.4/sphinx/html/index.html)*, documentation of the Python classes and their methods can be accessed from within the Python interpreter as well.\n",
    "\n",
    "Suppose you have created a Cantera object and want to know what methods are available for it, and get help on using the methods:"
   ]
  },
  {
   "cell_type": "code",
   "execution_count": 25,
   "metadata": {},
   "outputs": [],
   "source": [
    "g = ct.Solution(\"gri30.yaml\")"
   ]
  },
  {
   "cell_type": "markdown",
   "metadata": {},
   "source": [
    "To get help on the Python class that this object is an instance of, put a question mark `?` after the variable:"
   ]
  },
  {
   "cell_type": "code",
   "execution_count": 26,
   "metadata": {},
   "outputs": [],
   "source": [
    "# Help"
   ]
  },
  {
   "cell_type": "markdown",
   "metadata": {},
   "source": [
    "For a simple list of the properties and methods of this object:"
   ]
  },
  {
   "cell_type": "code",
   "execution_count": 27,
   "metadata": {
    "scrolled": true
   },
   "outputs": [
    {
     "data": {
      "text/plain": [
       "['DP',\n",
       " 'DPX',\n",
       " 'DPY',\n",
       " 'HP',\n",
       " 'HPX',\n",
       " 'HPY',\n",
       " 'ID',\n",
       " 'P',\n",
       " 'P_sat',\n",
       " 'SP',\n",
       " 'SPX',\n",
       " 'SPY',\n",
       " 'SV',\n",
       " 'SVX',\n",
       " 'SVY',\n",
       " 'T',\n",
       " 'TD',\n",
       " 'TDX',\n",
       " 'TDY',\n",
       " 'TP',\n",
       " 'TPX',\n",
       " 'TPY',\n",
       " 'T_sat',\n",
       " 'UV',\n",
       " 'UVX',\n",
       " 'UVY',\n",
       " 'X',\n",
       " 'Y',\n",
       " '__call__',\n",
       " '__class__',\n",
       " '__composition_to_array',\n",
       " '__copy__',\n",
       " '__delattr__',\n",
       " '__dir__',\n",
       " '__doc__',\n",
       " '__eq__',\n",
       " '__format__',\n",
       " '__ge__',\n",
       " '__getattribute__',\n",
       " '__getitem__',\n",
       " '__gt__',\n",
       " '__hash__',\n",
       " '__init__',\n",
       " '__init_subclass__',\n",
       " '__le__',\n",
       " '__lt__',\n",
       " '__module__',\n",
       " '__ne__',\n",
       " '__new__',\n",
       " '__pyx_vtable__',\n",
       " '__reduce__',\n",
       " '__reduce_ex__',\n",
       " '__repr__',\n",
       " '__setattr__',\n",
       " '__sizeof__',\n",
       " '__slots__',\n",
       " '__str__',\n",
       " '__subclasshook__',\n",
       " '_check_kinetics_species_index',\n",
       " '_check_phase_index',\n",
       " '_check_reaction_index',\n",
       " '_full_states',\n",
       " '_init_cti_xml',\n",
       " '_init_parts',\n",
       " '_init_yaml',\n",
       " '_native_state',\n",
       " '_partial_states',\n",
       " '_references',\n",
       " 'activities',\n",
       " 'activity_coefficients',\n",
       " 'add_reaction',\n",
       " 'add_species',\n",
       " 'add_species_alias',\n",
       " 'atomic_weight',\n",
       " 'atomic_weights',\n",
       " 'basis',\n",
       " 'binary_diff_coeffs',\n",
       " 'case_sensitive_species_names',\n",
       " 'charges',\n",
       " 'chemical_potentials',\n",
       " 'composite',\n",
       " 'concentrations',\n",
       " 'cp',\n",
       " 'cp_mass',\n",
       " 'cp_mole',\n",
       " 'creation_rates',\n",
       " 'critical_density',\n",
       " 'critical_pressure',\n",
       " 'critical_temperature',\n",
       " 'cv',\n",
       " 'cv_mass',\n",
       " 'cv_mole',\n",
       " 'delta_enthalpy',\n",
       " 'delta_entropy',\n",
       " 'delta_gibbs',\n",
       " 'delta_standard_enthalpy',\n",
       " 'delta_standard_entropy',\n",
       " 'delta_standard_gibbs',\n",
       " 'density',\n",
       " 'density_mass',\n",
       " 'density_mole',\n",
       " 'destruction_rates',\n",
       " 'electric_potential',\n",
       " 'electrical_conductivity',\n",
       " 'electrochemical_potentials',\n",
       " 'element_index',\n",
       " 'element_name',\n",
       " 'element_names',\n",
       " 'elemental_mass_fraction',\n",
       " 'elemental_mole_fraction',\n",
       " 'enthalpy_mass',\n",
       " 'enthalpy_mole',\n",
       " 'entropy_mass',\n",
       " 'entropy_mole',\n",
       " 'equilibrate',\n",
       " 'equilibrium_constants',\n",
       " 'equivalence_ratio',\n",
       " 'find_isomers',\n",
       " 'forward_rate_constants',\n",
       " 'forward_rates_of_progress',\n",
       " 'g',\n",
       " 'get_equivalence_ratio',\n",
       " 'gibbs_mass',\n",
       " 'gibbs_mole',\n",
       " 'h',\n",
       " 'has_phase_transition',\n",
       " 'heat_production_rates',\n",
       " 'heat_release_rate',\n",
       " 'int_energy_mass',\n",
       " 'int_energy_mole',\n",
       " 'is_compressible',\n",
       " 'is_pure',\n",
       " 'is_reversible',\n",
       " 'isothermal_compressibility',\n",
       " 'kinetics_model',\n",
       " 'kinetics_species_index',\n",
       " 'kinetics_species_name',\n",
       " 'kinetics_species_names',\n",
       " 'mass_fraction_dict',\n",
       " 'max_temp',\n",
       " 'mean_molecular_weight',\n",
       " 'min_temp',\n",
       " 'mix_diff_coeffs',\n",
       " 'mix_diff_coeffs_mass',\n",
       " 'mix_diff_coeffs_mole',\n",
       " 'mixture_fraction',\n",
       " 'mobilities',\n",
       " 'modify_reaction',\n",
       " 'modify_species',\n",
       " 'mole_fraction_dict',\n",
       " 'molecular_weights',\n",
       " 'multi_diff_coeffs',\n",
       " 'multiplier',\n",
       " 'n_atoms',\n",
       " 'n_elements',\n",
       " 'n_phases',\n",
       " 'n_reactions',\n",
       " 'n_selected_species',\n",
       " 'n_species',\n",
       " 'n_total_species',\n",
       " 'name',\n",
       " 'net_production_rates',\n",
       " 'net_rates_of_progress',\n",
       " 'partial_molar_cp',\n",
       " 'partial_molar_enthalpies',\n",
       " 'partial_molar_entropies',\n",
       " 'partial_molar_int_energies',\n",
       " 'partial_molar_volumes',\n",
       " 'phase_of_matter',\n",
       " 'product_stoich_coeff',\n",
       " 'product_stoich_coeffs',\n",
       " 'products',\n",
       " 'reactant_stoich_coeff',\n",
       " 'reactant_stoich_coeffs',\n",
       " 'reactants',\n",
       " 'reaction',\n",
       " 'reaction_equation',\n",
       " 'reaction_equations',\n",
       " 'reaction_phase_index',\n",
       " 'reaction_type',\n",
       " 'reactions',\n",
       " 'reference_pressure',\n",
       " 'report',\n",
       " 'reverse_rate_constants',\n",
       " 'reverse_rates_of_progress',\n",
       " 's',\n",
       " 'selected_species',\n",
       " 'set_equivalence_ratio',\n",
       " 'set_mixture_fraction',\n",
       " 'set_multiplier',\n",
       " 'set_unnormalized_mass_fractions',\n",
       " 'set_unnormalized_mole_fractions',\n",
       " 'source',\n",
       " 'species',\n",
       " 'species_index',\n",
       " 'species_name',\n",
       " 'species_names',\n",
       " 'species_viscosities',\n",
       " 'standard_cp_R',\n",
       " 'standard_enthalpies_RT',\n",
       " 'standard_entropies_R',\n",
       " 'standard_gibbs_RT',\n",
       " 'standard_int_energies_RT',\n",
       " 'state',\n",
       " 'state_size',\n",
       " 'stoich_air_fuel_ratio',\n",
       " 'thermal_conductivity',\n",
       " 'thermal_diff_coeffs',\n",
       " 'thermal_expansion_coeff',\n",
       " 'thermo_model',\n",
       " 'transport_model',\n",
       " 'u',\n",
       " 'v',\n",
       " 'viscosity',\n",
       " 'volume_mass',\n",
       " 'volume_mole']"
      ]
     },
     "execution_count": 27,
     "metadata": {},
     "output_type": "execute_result"
    }
   ],
   "source": [
    "# Print python dictionary"
   ]
  },
  {
   "cell_type": "markdown",
   "metadata": {},
   "source": [
    "To get help on a specific method, e.g. the `species_index` method:"
   ]
  },
  {
   "cell_type": "code",
   "execution_count": 28,
   "metadata": {},
   "outputs": [],
   "source": [
    "# Type your text here"
   ]
  },
  {
   "cell_type": "markdown",
   "metadata": {},
   "source": [
    "For properties, getting the documentation is slightly trickier, as the usual method will give you help for the *result*, e.g.:"
   ]
  },
  {
   "cell_type": "code",
   "execution_count": 29,
   "metadata": {
    "scrolled": true
   },
   "outputs": [],
   "source": [
    "# Type your text here"
   ]
  },
  {
   "cell_type": "markdown",
   "metadata": {},
   "source": [
    "provides help on Python's `float` class. To get the help for the temperature property, ask for the attribute of the class object itself:"
   ]
  },
  {
   "cell_type": "code",
   "execution_count": 30,
   "metadata": {},
   "outputs": [],
   "source": [
    "# Type your text here"
   ]
  },
  {
   "cell_type": "markdown",
   "metadata": {},
   "source": [
    "Help can also be obtained using the `help` function:"
   ]
  },
  {
   "cell_type": "code",
   "execution_count": 31,
   "metadata": {},
   "outputs": [
    {
     "name": "stdout",
     "output_type": "stream",
     "text": [
      "Help on built-in function species_index:\n",
      "\n",
      "species_index(...) method of cantera.composite.Solution instance\n",
      "    ThermoPhase.species_index(self, species) -> int\n",
      "    \n",
      "    The index of species *species*, which may be specified as a string or\n",
      "    an integer. In the latter case, the index is checked for validity and\n",
      "    returned. If no such species is present, an exception is thrown.\n",
      "\n"
     ]
    }
   ],
   "source": [
    "# Type your text here"
   ]
  },
  {
   "cell_type": "markdown",
   "metadata": {},
   "source": [
    "## Chemical Equilibrium"
   ]
  },
  {
   "cell_type": "markdown",
   "metadata": {},
   "source": [
    "To set a gas mixture to a state of chemical equilibrium, use the `equilibrate` method:"
   ]
  },
  {
   "cell_type": "code",
   "execution_count": 32,
   "metadata": {},
   "outputs": [
    {
     "name": "stdout",
     "output_type": "stream",
     "text": [
      "\n",
      "  gri30:\n",
      "\n",
      "       temperature   300 K\n",
      "          pressure   1.0133e+05 Pa\n",
      "           density   1.1248 kg/m^3\n",
      "  mean mol. weight   27.689 kg/kmol\n",
      "   phase of matter   gas\n",
      "\n",
      "                          1 kg             1 kmol     \n",
      "                     ---------------   ---------------\n",
      "          enthalpy       -2.8723e+06       -7.9532e+07  J\n",
      "   internal energy       -2.9624e+06       -8.2026e+07  J\n",
      "           entropy            7226.6         2.001e+05  J/K\n",
      "    Gibbs function       -5.0403e+06       -1.3956e+08  J\n",
      " heat capacity c_p            1106.5             30638  J/K\n",
      " heat capacity c_v            806.22             22323  J/K\n",
      "\n",
      "                      mass frac. Y      mole frac. X     chem. pot. / RT\n",
      "                     ---------------   ---------------   ---------------\n",
      "                O2          0.011038         0.0095511           -29.325\n",
      "               H2O           0.11807           0.18147           -121.37\n",
      "               CO2           0.14422          0.090735           -185.87\n",
      "               NO2        1.0069e-11        6.0604e-12           -41.007\n",
      "                N2           0.72668           0.71824           -23.364\n",
      "     [  +48 minor]        5.1542e-17        4.7534e-17  \n",
      "\n"
     ]
    }
   ],
   "source": [
    "g = ct.Solution(\"gri30.yaml\")\n",
    "g.TPX = 300.0, ct.one_atm, \"CH4:0.95, O2:2, N2:7.52\"\n",
    "\n",
    "# Chemical equilibrium\n"
   ]
  },
  {
   "cell_type": "markdown",
   "metadata": {},
   "source": [
    "The above statement sets the state of object `g` to the state of chemical equilibrium holding temperature and pressure fixed. Alternatively, the specific enthalpy and pressure can be held fixed:"
   ]
  },
  {
   "cell_type": "code",
   "execution_count": 33,
   "metadata": {},
   "outputs": [
    {
     "name": "stdout",
     "output_type": "stream",
     "text": [
      "\n",
      "  gri30:\n",
      "\n",
      "       temperature   2188.9 K\n",
      "          pressure   1.0133e+05 Pa\n",
      "           density   0.15349 kg/m^3\n",
      "  mean mol. weight   27.57 kg/kmol\n",
      "   phase of matter   gas\n",
      "\n",
      "                          1 kg             1 kmol     \n",
      "                     ---------------   ---------------\n",
      "          enthalpy       -2.4244e+05        -6.684e+06  J\n",
      "   internal energy       -9.0257e+05       -2.4884e+07  J\n",
      "           entropy            9804.1         2.703e+05  J/K\n",
      "    Gibbs function       -2.1703e+07       -5.9836e+08  J\n",
      " heat capacity c_p            1500.5             41370  J/K\n",
      " heat capacity c_v            1198.9             33055  J/K\n",
      "\n",
      "                      mass frac. Y      mole frac. X     chem. pot. / RT\n",
      "                     ---------------   ---------------   ---------------\n",
      "                H2        0.00013397         0.0018322           -26.072\n",
      "                 H        8.2844e-06        0.00022659           -13.036\n",
      "                 O        0.00015045        0.00025925           -16.819\n",
      "                O2          0.012303            0.0106           -33.638\n",
      "                OH         0.0018524          0.003003           -29.855\n",
      "               H2O           0.11582           0.17725           -42.891\n",
      "               HO2        9.6895e-07        8.0937e-07           -46.674\n",
      "              H2O2        7.4683e-08        6.0534e-08            -59.71\n",
      "                CO          0.004715         0.0046409           -39.462\n",
      "               CO2           0.13681          0.085706           -56.281\n",
      "               HCO        2.6871e-10        2.5531e-10           -52.498\n",
      "              CH2O        3.7766e-12        3.4677e-12           -65.534\n",
      "                 N        4.7066e-09        9.2641e-09           -13.788\n",
      "                NH        6.6614e-10        1.2231e-09           -26.825\n",
      "               NH2         2.355e-10        4.0521e-10           -39.861\n",
      "               NH3        6.3387e-10        1.0261e-09           -52.897\n",
      "               NNH        4.5639e-10        4.3356e-10           -40.613\n",
      "                NO         0.0028762         0.0026427           -30.607\n",
      "               NO2        1.2873e-06        7.7145e-07           -47.426\n",
      "               N2O        2.2492e-07         1.409e-07           -44.396\n",
      "               HNO        3.7252e-08        3.3116e-08           -43.643\n",
      "                CN         1.329e-14        1.4083e-14           -36.432\n",
      "               HCN        3.6949e-12        3.7693e-12           -49.468\n",
      "              HOCN        5.9567e-13         3.817e-13           -66.287\n",
      "              HNCO        2.2296e-10        1.4287e-10           -66.287\n",
      "               NCO        9.7085e-12        6.3704e-12            -53.25\n",
      "                N2           0.72533           0.71384           -27.577\n",
      "     [  +26 minor]        6.1778e-17        5.1197e-17  \n",
      "\n"
     ]
    }
   ],
   "source": [
    "# Type your text here"
   ]
  },
  {
   "cell_type": "markdown",
   "metadata": {},
   "source": [
    "Other options are:\n",
    "* `'UV'` for fixed specific internal energy and specific volume\n",
    "* `'SV'` for fixed specific entropy and specific volume\n",
    "* `'SP'` for fixed specific entropy and pressure\n",
    "\n",
    "How can you tell if `equilibrate` has correctly found the chemical equilibrium state? One way is to verify that the net rates of progress of all reversible reactions are zero. Here is the code to do this:"
   ]
  },
  {
   "cell_type": "code",
   "execution_count": 34,
   "metadata": {},
   "outputs": [],
   "source": [
    "# Type your text here"
   ]
  },
  {
   "cell_type": "code",
   "execution_count": 35,
   "metadata": {
    "scrolled": true
   },
   "outputs": [
    {
     "name": "stdout",
     "output_type": "stream",
     "text": [
      "   0\t 5.637e-15\n",
      "   1\t 1.851e-15\n",
      "   2\t 1.771e-15\n",
      "   3\t 1.063e-14\n",
      "   4\t-3.597e-15\n",
      "   5\t 3.508e-15\n",
      "   6\t-6.934e-15\n",
      "   7\t         0\n",
      "   8\t         0\n",
      "   9\t 5.712e-15\n",
      "  10\t 3.274e-16\n",
      "  11\t 5.674e-15\n",
      "  12\t  2.15e-16\n",
      "  13\t 1.097e-14\n",
      "  14\t-4.294e-15\n",
      "  15\t 1.283e-14\n",
      "  16\t 1.098e-14\n",
      "  17\t-8.474e-16\n",
      "  18\t  2.12e-15\n",
      "  19\t-1.981e-16\n",
      "  20\t 9.554e-15\n",
      "  21\t 1.279e-14\n",
      "  22\t 1.773e-14\n",
      "  23\t 3.673e-15\n",
      "  24\t-7.124e-15\n",
      "  25\t-1.417e-14\n",
      "  26\t 2.255e-14\n",
      "  27\t 2.057e-15\n",
      "  28\t         0\n",
      "  29\t 1.083e-14\n",
      "  30\t 1.684e-15\n",
      "  31\t-8.943e-15\n",
      "  32\t-6.843e-15\n",
      "  33\t-7.068e-15\n",
      "  34\t-7.067e-15\n",
      "  35\t-6.839e-15\n",
      "  37\t-8.611e-16\n",
      "  38\t  1.85e-15\n",
      "  39\t 1.715e-15\n",
      "  40\t  1.75e-15\n",
      "  41\t 8.959e-15\n",
      "  42\t-5.201e-15\n",
      "  43\t-3.504e-15\n",
      "  44\t 3.674e-15\n",
      "  45\t 3.679e-15\n",
      "  46\t 1.704e-15\n",
      "  47\t-7.179e-15\n",
      "  48\t 3.962e-15\n",
      "  49\t-8.746e-15\n",
      "  50\t 5.753e-16\n",
      "  51\t 3.593e-15\n",
      "  52\t  -7.7e-15\n",
      "  53\t 1.953e-15\n",
      "  54\t 7.039e-15\n",
      "  55\t-8.253e-15\n",
      "  56\t-6.527e-15\n",
      "  57\t-2.503e-16\n",
      "  58\t 5.223e-15\n",
      "  59\t  3.77e-15\n",
      "  60\t 6.229e-15\n",
      "  61\t-2.086e-15\n",
      "  62\t 1.871e-15\n",
      "  63\t-2.688e-15\n",
      "  64\t  3.99e-16\n",
      "  65\t 3.547e-15\n",
      "  66\t -4.34e-15\n",
      "  67\t-9.009e-15\n",
      "  68\t-6.199e-15\n",
      "  69\t-1.218e-14\n",
      "  70\t 9.657e-15\n",
      "  71\t 1.687e-15\n",
      "  72\t-1.036e-14\n",
      "  73\t 7.638e-15\n",
      "  74\t-2.152e-15\n",
      "  75\t-2.494e-14\n",
      "  76\t-1.246e-14\n",
      "  77\t  2.78e-14\n",
      "  78\t-8.236e-16\n",
      "  79\t  -1.6e-15\n",
      "  80\t-7.299e-15\n",
      "  81\t         0\n",
      "  82\t-5.227e-15\n",
      "  83\t-6.116e-15\n",
      "  84\t-2.703e-15\n",
      "  85\t-7.648e-15\n",
      "  86\t-3.539e-15\n",
      "  87\t-4.809e-15\n",
      "  88\t-4.848e-15\n",
      "  89\t 3.053e-15\n",
      "  90\t-3.453e-15\n",
      "  91\t  -8.6e-15\n",
      "  92\t -1.54e-14\n",
      "  93\t 1.389e-16\n",
      "  94\t -1.85e-15\n",
      "  95\t 3.894e-16\n",
      "  96\t-8.384e-15\n",
      "  97\t-9.097e-16\n",
      "  98\t 8.898e-15\n",
      "  99\t         0\n",
      " 100\t-1.265e-14\n",
      " 101\t-6.947e-15\n",
      " 102\t-1.048e-14\n",
      " 103\t-2.125e-14\n",
      " 104\t-5.448e-15\n",
      " 105\t-2.737e-15\n",
      " 106\t 1.308e-14\n",
      " 107\t 1.332e-14\n",
      " 108\t 5.194e-15\n",
      " 109\t 6.658e-15\n",
      " 110\t -2.12e-14\n",
      " 111\t-7.956e-15\n",
      " 112\t 2.154e-14\n",
      " 113\t-7.617e-15\n",
      " 114\t 1.443e-14\n",
      " 115\t  1.43e-14\n",
      " 116\t 3.541e-16\n",
      " 117\t 1.774e-14\n",
      " 118\t 6.378e-15\n",
      " 119\t 5.287e-15\n",
      " 120\t -7.85e-15\n",
      " 121\t-7.447e-15\n",
      " 122\t-7.277e-15\n",
      " 123\t-7.325e-15\n",
      " 124\t-6.997e-15\n",
      " 125\t 5.814e-15\n",
      " 126\t  7.48e-15\n",
      " 127\t-1.411e-14\n",
      " 128\t  3.73e-15\n",
      " 129\t 2.031e-15\n",
      " 130\t 1.553e-16\n",
      " 131\t-7.138e-15\n",
      " 132\t 1.644e-15\n",
      " 133\t-1.411e-14\n",
      " 135\t -9.47e-15\n",
      " 136\t-2.098e-14\n",
      " 137\t 1.705e-16\n",
      " 138\t-1.414e-14\n",
      " 139\t-4.175e-15\n",
      " 140\t-7.135e-15\n",
      " 141\t 8.758e-15\n",
      " 143\t  5.06e-15\n",
      " 144\t -7.28e-15\n",
      " 145\t-4.098e-15\n",
      " 146\t 7.184e-15\n",
      " 147\t 8.586e-15\n",
      " 148\t 5.449e-15\n",
      " 149\t-5.409e-15\n",
      " 150\t 8.839e-15\n",
      " 151\t 8.845e-15\n",
      " 152\t  5.34e-15\n",
      " 153\t 2.317e-14\n",
      " 154\t-4.569e-15\n",
      " 155\t  5.67e-15\n",
      " 156\t   9.5e-15\n",
      " 157\t-6.196e-15\n",
      " 158\t 1.886e-14\n",
      " 159\t 7.047e-15\n",
      " 160\t 1.597e-15\n",
      " 161\t 5.805e-15\n",
      " 162\t -4.49e-15\n",
      " 163\t 5.754e-15\n",
      " 164\t 2.269e-14\n",
      " 165\t 9.657e-15\n",
      " 166\t 4.513e-15\n",
      " 167\t 3.704e-15\n",
      " 168\t 8.347e-15\n",
      " 169\t 5.709e-15\n",
      " 170\t-7.007e-15\n",
      " 171\t-1.093e-14\n",
      " 172\t-6.764e-15\n",
      " 173\t-1.208e-14\n",
      " 174\t-1.455e-14\n",
      " 175\t 5.356e-15\n",
      " 176\t-8.532e-15\n",
      " 177\t-1.794e-15\n",
      " 178\t-1.083e-14\n",
      " 179\t-3.705e-15\n",
      " 180\t 1.082e-14\n",
      " 181\t 5.118e-15\n",
      " 182\t 1.069e-14\n",
      " 183\t 7.158e-15\n",
      " 184\t 2.549e-15\n",
      " 185\t-8.503e-15\n",
      " 186\t-1.571e-15\n",
      " 187\t 7.161e-15\n",
      " 188\t 5.599e-15\n",
      " 189\t 3.366e-15\n",
      " 190\t 3.947e-15\n",
      " 191\t-2.232e-15\n",
      " 192\t-8.394e-15\n",
      " 193\t-3.189e-15\n",
      " 194\t-2.057e-15\n",
      " 195\t 3.373e-15\n",
      " 196\t 1.035e-14\n",
      " 197\t 1.076e-14\n",
      " 198\t 1.475e-15\n",
      " 199\t 3.726e-15\n",
      " 200\t 1.251e-15\n",
      " 201\t -1.48e-15\n",
      " 202\t-3.973e-15\n",
      " 203\t-2.858e-15\n",
      " 204\t-2.759e-15\n",
      " 205\t-3.419e-15\n",
      " 206\t  1.52e-16\n",
      " 207\t-1.042e-14\n",
      " 208\t-7.302e-15\n",
      " 209\t -1.81e-14\n",
      " 210\t 6.959e-15\n",
      " 211\t-1.081e-15\n",
      " 212\t  1.91e-15\n",
      " 213\t-2.966e-16\n",
      " 214\t-1.224e-16\n",
      " 215\t-2.628e-15\n",
      " 216\t 3.708e-16\n",
      " 217\t 2.219e-15\n",
      " 218\t-4.409e-15\n",
      " 219\t 1.234e-15\n",
      " 220\t-7.059e-15\n",
      " 221\t 1.719e-16\n",
      " 222\t-7.019e-15\n",
      " 223\t-1.186e-14\n",
      " 224\t 3.795e-15\n",
      " 225\t         0\n",
      " 226\t-1.704e-15\n",
      " 227\t 1.477e-16\n",
      " 228\t 1.502e-16\n",
      " 229\t 8.823e-15\n",
      " 230\t 1.405e-14\n",
      " 231\t 7.435e-15\n",
      " 232\t 1.199e-14\n",
      " 233\t-3.599e-15\n",
      " 234\t 2.575e-16\n",
      " 235\t 3.204e-15\n",
      " 236\t 6.974e-15\n",
      " 237\t         0\n",
      " 238\t 1.566e-15\n",
      " 239\t-3.128e-15\n",
      " 240\t-8.427e-15\n",
      " 241\t-1.334e-14\n",
      " 242\t-4.775e-15\n",
      " 243\t-5.706e-16\n",
      " 244\t-1.869e-16\n",
      " 245\t-6.835e-15\n",
      " 246\t 7.092e-15\n",
      " 247\t 1.025e-15\n",
      " 248\t-1.054e-14\n",
      " 249\t-1.219e-14\n",
      " 250\t-1.477e-14\n",
      " 251\t-3.746e-15\n",
      " 252\t-3.433e-15\n",
      " 253\t-5.958e-15\n",
      " 254\t 1.924e-16\n",
      " 255\t  1.21e-14\n",
      " 256\t 1.611e-15\n",
      " 257\t 3.446e-15\n",
      " 258\t 5.008e-15\n",
      " 259\t 8.726e-15\n",
      " 260\t 1.406e-14\n",
      " 261\t 1.569e-14\n",
      " 262\t 3.469e-15\n",
      " 263\t 1.411e-14\n",
      " 264\t 3.497e-15\n",
      " 265\t 5.402e-15\n",
      " 266\t-3.369e-16\n",
      " 267\t 1.158e-14\n",
      " 268\t 2.015e-15\n",
      " 269\t 3.407e-15\n",
      " 270\t 3.477e-15\n",
      " 271\t 6.871e-15\n",
      " 272\t 3.506e-15\n",
      " 273\t -6.95e-15\n",
      " 274\t 5.736e-15\n",
      " 275\t-3.436e-15\n",
      " 276\t 9.276e-15\n",
      " 277\t 3.374e-15\n",
      " 278\t 4.618e-15\n",
      " 279\t-1.112e-14\n",
      " 280\t 2.007e-15\n",
      " 281\t 1.474e-14\n",
      " 282\t-2.004e-15\n",
      " 284\t-5.112e-16\n",
      " 285\t -1.77e-14\n",
      " 286\t-3.588e-15\n",
      " 288\t-5.271e-15\n",
      " 290\t-8.794e-15\n",
      " 293\t-5.476e-16\n",
      " 294\t-1.643e-14\n",
      " 295\t 2.069e-14\n",
      " 298\t 5.566e-15\n",
      " 303\t-3.418e-15\n",
      " 307\t-6.647e-15\n",
      " 308\t-3.165e-16\n",
      " 309\t-1.751e-16\n",
      " 310\t-1.983e-14\n",
      " 311\t-1.217e-14\n",
      " 312\t-7.334e-15\n",
      " 313\t-9.201e-15\n",
      " 314\t-2.762e-14\n",
      " 315\t-3.093e-15\n",
      " 316\t-5.059e-16\n",
      " 317\t-1.508e-14\n",
      " 318\t 3.613e-14\n",
      " 319\t 1.081e-14\n",
      " 320\t 2.318e-14\n",
      " 321\t 2.338e-14\n",
      " 322\t 1.191e-14\n",
      " 324\t 4.239e-14\n"
     ]
    }
   ],
   "source": [
    "rf = g.forward_rates_of_progress\n",
    "rr = g.reverse_rates_of_progress\n",
    "for i in range(g.n_reactions):\n",
    "    if g.is_reversible(i) and rf[i] != 0.0:\n",
    "        print(f\"{i:4d}\\t{(rf[i] - rr[i])/rf[i]:10.4g}\")"
   ]
  },
  {
   "cell_type": "markdown",
   "metadata": {},
   "source": [
    "If the magnitudes of the numbers in this list are all very small (which in this case they are), then each reversible reaction is very nearly equilibrated, which only occurs if the gas is in chemical equilibrium.\n",
    "\n",
    "You might be wondering how `equilibrate` works. (Then again, you might not.) Method `equilibrate` invokes Cantera's chemical equilibrium solver, which uses an element potential method. The element potential method is one of a class of equivalent *nonstoichiometric* methods that all have the characteristic that the probelm reduces to solving a set of $M$ nonlinear algebraic equations, where $M$ is the number of elements (not species). The so-called *stoichiometric* methods, on the other hand (including the Gibbs minimization), require solving $K$ nonlinear equations, where $K$ is the number of species (usually $K >> M$). See Smith and Missen's \"Chemical Reaction Equilibrium Analysis\" for more information on the various algorithms and their characteristics.\n",
    "\n",
    "Cantera uses a damped Newton method to solve these equations, and does a few other things to generate a good starting guess and to produce a reasonably robust algorithm. If you want to know more about the details, look at the on-line documentated source code of Cantera C++ class [`ChemEquil.h`](https://cantera.org/documentation/docs-2.4/doxygen/html/d4/dd4/ChemEquil_8h.html)."
   ]
  }
 ],
 "metadata": {
  "kernelspec": {
   "display_name": "Python 3 (ipykernel)",
   "language": "python",
   "name": "python3"
  },
  "language_info": {
   "codemirror_mode": {
    "name": "ipython",
    "version": 3
   },
   "file_extension": ".py",
   "mimetype": "text/x-python",
   "name": "python",
   "nbconvert_exporter": "python",
   "pygments_lexer": "ipython3",
   "version": "3.9.12"
  }
 },
 "nbformat": 4,
 "nbformat_minor": 4
}
